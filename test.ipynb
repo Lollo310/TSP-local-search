{
 "cells": [
  {
   "cell_type": "code",
   "execution_count": 1,
   "metadata": {},
   "outputs": [],
   "source": [
    "import networkx as nx\n",
    "import utils as utl"
   ]
  },
  {
   "cell_type": "code",
   "execution_count": 2,
   "metadata": {},
   "outputs": [],
   "source": [
    "loader = utl.Loader()\n",
    "loader.readFile('TSP_datasets/a280.tsp')"
   ]
  },
  {
   "cell_type": "code",
   "execution_count": 3,
   "metadata": {},
   "outputs": [],
   "source": [
    "G = loader.createNxGraph()"
   ]
  },
  {
   "cell_type": "code",
   "execution_count": 5,
   "metadata": {},
   "outputs": [
    {
     "data": {
      "text/plain": [
       "NodeDataView({0: {'pos': array([288., 149.])}, 1: {'pos': array([288., 129.])}, 2: {'pos': array([270., 133.])}, 3: {'pos': array([256., 141.])}, 4: {'pos': array([256., 157.])}, 5: {'pos': array([246., 157.])}, 6: {'pos': array([236., 169.])}, 7: {'pos': array([228., 169.])}, 8: {'pos': array([228., 161.])}, 9: {'pos': array([220., 169.])}, 10: {'pos': array([212., 169.])}, 11: {'pos': array([204., 169.])}, 12: {'pos': array([196., 169.])}, 13: {'pos': array([188., 169.])}, 14: {'pos': array([196., 161.])}, 15: {'pos': array([188., 145.])}, 16: {'pos': array([172., 145.])}, 17: {'pos': array([164., 145.])}, 18: {'pos': array([156., 145.])}, 19: {'pos': array([148., 145.])}, 20: {'pos': array([140., 145.])}, 21: {'pos': array([148., 169.])}, 22: {'pos': array([164., 169.])}, 23: {'pos': array([172., 169.])}, 24: {'pos': array([156., 169.])}, 25: {'pos': array([140., 169.])}, 26: {'pos': array([132., 169.])}, 27: {'pos': array([124., 169.])}, 28: {'pos': array([116., 161.])}, 29: {'pos': array([104., 153.])}, 30: {'pos': array([104., 161.])}, 31: {'pos': array([104., 169.])}, 32: {'pos': array([ 90., 165.])}, 33: {'pos': array([ 80., 157.])}, 34: {'pos': array([ 64., 157.])}, 35: {'pos': array([ 64., 165.])}, 36: {'pos': array([ 56., 169.])}, 37: {'pos': array([ 56., 161.])}, 38: {'pos': array([ 56., 153.])}, 39: {'pos': array([ 56., 145.])}, 40: {'pos': array([ 56., 137.])}, 41: {'pos': array([ 56., 129.])}, 42: {'pos': array([ 56., 121.])}, 43: {'pos': array([ 40., 121.])}, 44: {'pos': array([ 40., 129.])}, 45: {'pos': array([ 40., 137.])}, 46: {'pos': array([ 40., 145.])}, 47: {'pos': array([ 40., 153.])}, 48: {'pos': array([ 40., 161.])}, 49: {'pos': array([ 40., 169.])}, 50: {'pos': array([ 32., 169.])}, 51: {'pos': array([ 32., 161.])}, 52: {'pos': array([ 32., 153.])}, 53: {'pos': array([ 32., 145.])}, 54: {'pos': array([ 32., 137.])}, 55: {'pos': array([ 32., 129.])}, 56: {'pos': array([ 32., 121.])}, 57: {'pos': array([ 32., 113.])}, 58: {'pos': array([ 40., 113.])}, 59: {'pos': array([ 56., 113.])}, 60: {'pos': array([ 56., 105.])}, 61: {'pos': array([48., 99.])}, 62: {'pos': array([40., 99.])}, 63: {'pos': array([32., 97.])}, 64: {'pos': array([32., 89.])}, 65: {'pos': array([24., 89.])}, 66: {'pos': array([16., 97.])}, 67: {'pos': array([ 16., 109.])}, 68: {'pos': array([  8., 109.])}, 69: {'pos': array([ 8., 97.])}, 70: {'pos': array([ 8., 89.])}, 71: {'pos': array([ 8., 81.])}, 72: {'pos': array([ 8., 73.])}, 73: {'pos': array([ 8., 65.])}, 74: {'pos': array([ 8., 57.])}, 75: {'pos': array([16., 57.])}, 76: {'pos': array([ 8., 49.])}, 77: {'pos': array([ 8., 41.])}, 78: {'pos': array([24., 45.])}, 79: {'pos': array([32., 41.])}, 80: {'pos': array([32., 49.])}, 81: {'pos': array([32., 57.])}, 82: {'pos': array([32., 65.])}, 83: {'pos': array([32., 73.])}, 84: {'pos': array([32., 81.])}, 85: {'pos': array([40., 83.])}, 86: {'pos': array([40., 73.])}, 87: {'pos': array([40., 63.])}, 88: {'pos': array([40., 51.])}, 89: {'pos': array([44., 43.])}, 90: {'pos': array([44., 35.])}, 91: {'pos': array([44., 27.])}, 92: {'pos': array([32., 25.])}, 93: {'pos': array([24., 25.])}, 94: {'pos': array([16., 25.])}, 95: {'pos': array([16., 17.])}, 96: {'pos': array([24., 17.])}, 97: {'pos': array([32., 17.])}, 98: {'pos': array([44., 11.])}, 99: {'pos': array([56.,  9.])}, 100: {'pos': array([56., 17.])}, 101: {'pos': array([56., 25.])}, 102: {'pos': array([56., 33.])}, 103: {'pos': array([56., 41.])}, 104: {'pos': array([64., 41.])}, 105: {'pos': array([72., 41.])}, 106: {'pos': array([72., 49.])}, 107: {'pos': array([56., 49.])}, 108: {'pos': array([48., 51.])}, 109: {'pos': array([56., 57.])}, 110: {'pos': array([56., 65.])}, 111: {'pos': array([48., 63.])}, 112: {'pos': array([48., 73.])}, 113: {'pos': array([56., 73.])}, 114: {'pos': array([56., 81.])}, 115: {'pos': array([48., 83.])}, 116: {'pos': array([56., 89.])}, 117: {'pos': array([56., 97.])}, 118: {'pos': array([104.,  97.])}, 119: {'pos': array([104., 105.])}, 120: {'pos': array([104., 113.])}, 121: {'pos': array([104., 121.])}, 122: {'pos': array([104., 129.])}, 123: {'pos': array([104., 137.])}, 124: {'pos': array([104., 145.])}, 125: {'pos': array([116., 145.])}, 126: {'pos': array([124., 145.])}, 127: {'pos': array([132., 145.])}, 128: {'pos': array([132., 137.])}, 129: {'pos': array([140., 137.])}, 130: {'pos': array([148., 137.])}, 131: {'pos': array([156., 137.])}, 132: {'pos': array([164., 137.])}, 133: {'pos': array([172., 125.])}, 134: {'pos': array([172., 117.])}, 135: {'pos': array([172., 109.])}, 136: {'pos': array([172., 101.])}, 137: {'pos': array([172.,  93.])}, 138: {'pos': array([172.,  85.])}, 139: {'pos': array([180.,  85.])}, 140: {'pos': array([180.,  77.])}, 141: {'pos': array([180.,  69.])}, 142: {'pos': array([180.,  61.])}, 143: {'pos': array([180.,  53.])}, 144: {'pos': array([172.,  53.])}, 145: {'pos': array([172.,  61.])}, 146: {'pos': array([172.,  69.])}, 147: {'pos': array([172.,  77.])}, 148: {'pos': array([164.,  81.])}, 149: {'pos': array([148.,  85.])}, 150: {'pos': array([124.,  85.])}, 151: {'pos': array([124.,  93.])}, 152: {'pos': array([124., 109.])}, 153: {'pos': array([124., 125.])}, 154: {'pos': array([124., 117.])}, 155: {'pos': array([124., 101.])}, 156: {'pos': array([104.,  89.])}, 157: {'pos': array([104.,  81.])}, 158: {'pos': array([104.,  73.])}, 159: {'pos': array([104.,  65.])}, 160: {'pos': array([104.,  49.])}, 161: {'pos': array([104.,  41.])}, 162: {'pos': array([104.,  33.])}, 163: {'pos': array([104.,  25.])}, 164: {'pos': array([104.,  17.])}, 165: {'pos': array([92.,  9.])}, 166: {'pos': array([80.,  9.])}, 167: {'pos': array([72.,  9.])}, 168: {'pos': array([64., 21.])}, 169: {'pos': array([72., 25.])}, 170: {'pos': array([80., 25.])}, 171: {'pos': array([80., 25.])}, 172: {'pos': array([80., 41.])}, 173: {'pos': array([88., 49.])}, 174: {'pos': array([104.,  57.])}, 175: {'pos': array([124.,  69.])}, 176: {'pos': array([124.,  77.])}, 177: {'pos': array([132.,  81.])}, 178: {'pos': array([140.,  65.])}, 179: {'pos': array([132.,  61.])}, 180: {'pos': array([124.,  61.])}, 181: {'pos': array([124.,  53.])}, 182: {'pos': array([124.,  45.])}, 183: {'pos': array([124.,  37.])}, 184: {'pos': array([124.,  29.])}, 185: {'pos': array([132.,  21.])}, 186: {'pos': array([124.,  21.])}, 187: {'pos': array([120.,   9.])}, 188: {'pos': array([128.,   9.])}, 189: {'pos': array([136.,   9.])}, 190: {'pos': array([148.,   9.])}, 191: {'pos': array([162.,   9.])}, 192: {'pos': array([156.,  25.])}, 193: {'pos': array([172.,  21.])}, 194: {'pos': array([180.,  21.])}, 195: {'pos': array([180.,  29.])}, 196: {'pos': array([172.,  29.])}, 197: {'pos': array([172.,  37.])}, 198: {'pos': array([172.,  45.])}, 199: {'pos': array([180.,  45.])}, 200: {'pos': array([180.,  37.])}, 201: {'pos': array([188.,  41.])}, 202: {'pos': array([196.,  49.])}, 203: {'pos': array([204.,  57.])}, 204: {'pos': array([212.,  65.])}, 205: {'pos': array([220.,  73.])}, 206: {'pos': array([228.,  69.])}, 207: {'pos': array([228.,  77.])}, 208: {'pos': array([236.,  77.])}, 209: {'pos': array([236.,  69.])}, 210: {'pos': array([236.,  61.])}, 211: {'pos': array([228.,  61.])}, 212: {'pos': array([228.,  53.])}, 213: {'pos': array([236.,  53.])}, 214: {'pos': array([236.,  45.])}, 215: {'pos': array([228.,  45.])}, 216: {'pos': array([228.,  37.])}, 217: {'pos': array([236.,  37.])}, 218: {'pos': array([236.,  29.])}, 219: {'pos': array([228.,  29.])}, 220: {'pos': array([228.,  21.])}, 221: {'pos': array([236.,  21.])}, 222: {'pos': array([252.,  21.])}, 223: {'pos': array([260.,  29.])}, 224: {'pos': array([260.,  37.])}, 225: {'pos': array([260.,  45.])}, 226: {'pos': array([260.,  53.])}, 227: {'pos': array([260.,  61.])}, 228: {'pos': array([260.,  69.])}, 229: {'pos': array([260.,  77.])}, 230: {'pos': array([276.,  77.])}, 231: {'pos': array([276.,  69.])}, 232: {'pos': array([276.,  61.])}, 233: {'pos': array([276.,  53.])}, 234: {'pos': array([284.,  53.])}, 235: {'pos': array([284.,  61.])}, 236: {'pos': array([284.,  69.])}, 237: {'pos': array([284.,  77.])}, 238: {'pos': array([284.,  85.])}, 239: {'pos': array([284.,  93.])}, 240: {'pos': array([284., 101.])}, 241: {'pos': array([288., 109.])}, 242: {'pos': array([280., 109.])}, 243: {'pos': array([276., 101.])}, 244: {'pos': array([276.,  93.])}, 245: {'pos': array([276.,  85.])}, 246: {'pos': array([268.,  97.])}, 247: {'pos': array([260., 109.])}, 248: {'pos': array([252., 101.])}, 249: {'pos': array([260.,  93.])}, 250: {'pos': array([260.,  85.])}, 251: {'pos': array([236.,  85.])}, 252: {'pos': array([228.,  85.])}, 253: {'pos': array([228.,  93.])}, 254: {'pos': array([236.,  93.])}, 255: {'pos': array([236., 101.])}, 256: {'pos': array([228., 101.])}, 257: {'pos': array([228., 109.])}, 258: {'pos': array([228., 117.])}, 259: {'pos': array([228., 125.])}, 260: {'pos': array([220., 125.])}, 261: {'pos': array([212., 117.])}, 262: {'pos': array([204., 109.])}, 263: {'pos': array([196., 101.])}, 264: {'pos': array([188.,  93.])}, 265: {'pos': array([180.,  93.])}, 266: {'pos': array([180., 101.])}, 267: {'pos': array([180., 109.])}, 268: {'pos': array([180., 117.])}, 269: {'pos': array([180., 125.])}, 270: {'pos': array([196., 145.])}, 271: {'pos': array([204., 145.])}, 272: {'pos': array([212., 145.])}, 273: {'pos': array([220., 145.])}, 274: {'pos': array([228., 145.])}, 275: {'pos': array([236., 145.])}, 276: {'pos': array([246., 141.])}, 277: {'pos': array([252., 125.])}, 278: {'pos': array([260., 129.])}, 279: {'pos': array([280., 133.])}})"
      ]
     },
     "execution_count": 5,
     "metadata": {},
     "output_type": "execute_result"
    }
   ],
   "source": [
    "G.nodes(data=True)"
   ]
  },
  {
   "cell_type": "code",
   "execution_count": null,
   "metadata": {},
   "outputs": [],
   "source": []
  }
 ],
 "metadata": {
  "kernelspec": {
   "display_name": "oc",
   "language": "python",
   "name": "python3"
  },
  "language_info": {
   "codemirror_mode": {
    "name": "ipython",
    "version": 3
   },
   "file_extension": ".py",
   "mimetype": "text/x-python",
   "name": "python",
   "nbconvert_exporter": "python",
   "pygments_lexer": "ipython3",
   "version": "3.11.4"
  },
  "orig_nbformat": 4
 },
 "nbformat": 4,
 "nbformat_minor": 2
}
